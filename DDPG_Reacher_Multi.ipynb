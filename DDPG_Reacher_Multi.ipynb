{
 "cells": [
  {
   "cell_type": "markdown",
   "metadata": {},
   "source": [
    "# Continuous Control\n",
    "\n",
    "---\n",
    "\n",
    "In this notebook, you will learn how to use the Unity ML-Agents environment for the second project of the [Deep Reinforcement Learning Nanodegree](https://www.udacity.com/course/deep-reinforcement-learning-nanodegree--nd893) program.\n",
    "\n",
    "### 1. Start the Environment\n",
    "\n",
    "We begin by importing the necessary packages.  If the code cell below returns an error, please revisit the project instructions to double-check that you have installed [Unity ML-Agents](https://github.com/Unity-Technologies/ml-agents/blob/master/docs/Installation.md) and [NumPy](http://www.numpy.org/)."
   ]
  },
  {
   "cell_type": "code",
   "execution_count": 1,
   "metadata": {},
   "outputs": [],
   "source": [
    "from unityagents import UnityEnvironment\n",
    "import numpy as np"
   ]
  },
  {
   "cell_type": "markdown",
   "metadata": {},
   "source": [
    "Next, we will start the environment!  **_Before running the code cell below_**, change the `file_name` parameter to match the location of the Unity environment that you downloaded.\n",
    "\n",
    "- **Mac**: `\"path/to/Reacher.app\"`\n",
    "- **Windows** (x86): `\"path/to/Reacher_Windows_x86/Reacher.exe\"`\n",
    "- **Windows** (x86_64): `\"path/to/Reacher_Windows_x86_64/Reacher.exe\"`\n",
    "- **Linux** (x86): `\"path/to/Reacher_Linux/Reacher.x86\"`\n",
    "- **Linux** (x86_64): `\"path/to/Reacher_Linux/Reacher.x86_64\"`\n",
    "- **Linux** (x86, headless): `\"path/to/Reacher_Linux_NoVis/Reacher.x86\"`\n",
    "- **Linux** (x86_64, headless): `\"path/to/Reacher_Linux_NoVis/Reacher.x86_64\"`\n",
    "\n",
    "For instance, if you are using a Mac, then you downloaded `Reacher.app`.  If this file is in the same folder as the notebook, then the line below should appear as follows:\n",
    "```\n",
    "env = UnityEnvironment(file_name=\"Reacher.app\")\n",
    "```"
   ]
  },
  {
   "cell_type": "code",
   "execution_count": 2,
   "metadata": {},
   "outputs": [
    {
     "name": "stderr",
     "output_type": "stream",
     "text": [
      "INFO:unityagents:\n",
      "'Academy' started successfully!\n",
      "Unity Academy name: Academy\n",
      "        Number of Brains: 1\n",
      "        Number of External Brains : 1\n",
      "        Lesson number : 0\n",
      "        Reset Parameters :\n",
      "\t\tgoal_speed -> 1.0\n",
      "\t\tgoal_size -> 5.0\n",
      "Unity brain name: ReacherBrain\n",
      "        Number of Visual Observations (per agent): 0\n",
      "        Vector Observation space type: continuous\n",
      "        Vector Observation space size (per agent): 33\n",
      "        Number of stacked Vector Observation: 1\n",
      "        Vector Action space type: continuous\n",
      "        Vector Action space size (per agent): 4\n",
      "        Vector Action descriptions: , , , \n"
     ]
    }
   ],
   "source": [
    "env = UnityEnvironment(file_name='Reacher.app')"
   ]
  },
  {
   "cell_type": "markdown",
   "metadata": {},
   "source": [
    "Environments contain **_brains_** which are responsible for deciding the actions of their associated agents. Here we check for the first brain available, and set it as the default brain we will be controlling from Python."
   ]
  },
  {
   "cell_type": "code",
   "execution_count": 3,
   "metadata": {},
   "outputs": [],
   "source": [
    "# get the default brain\n",
    "brain_name = env.brain_names[0]\n",
    "brain = env.brains[brain_name]"
   ]
  },
  {
   "cell_type": "markdown",
   "metadata": {},
   "source": [
    "### 2. Examine the State and Action Spaces\n",
    "\n",
    "In this environment, a double-jointed arm can move to target locations. A reward of `+0.1` is provided for each step that the agent's hand is in the goal location. Thus, the goal of your agent is to maintain its position at the target location for as many time steps as possible.\n",
    "\n",
    "The observation space consists of `33` variables corresponding to position, rotation, velocity, and angular velocities of the arm.  Each action is a vector with four numbers, corresponding to torque applicable to two joints.  Every entry in the action vector must be a number between `-1` and `1`.\n",
    "\n",
    "Run the code cell below to print some information about the environment."
   ]
  },
  {
   "cell_type": "code",
   "execution_count": 4,
   "metadata": {},
   "outputs": [
    {
     "name": "stdout",
     "output_type": "stream",
     "text": [
      "Number of agents: 20\n",
      "Size of each action: 4\n",
      "There are 20 agents. Each observes a state with length: 33\n",
      "The state for the first agent looks like: [ 0.00000000e+00 -4.00000000e+00  0.00000000e+00  1.00000000e+00\n",
      " -0.00000000e+00 -0.00000000e+00 -4.37113883e-08  0.00000000e+00\n",
      "  0.00000000e+00  0.00000000e+00  0.00000000e+00  0.00000000e+00\n",
      "  0.00000000e+00  0.00000000e+00 -1.00000000e+01  0.00000000e+00\n",
      "  1.00000000e+00 -0.00000000e+00 -0.00000000e+00 -4.37113883e-08\n",
      "  0.00000000e+00  0.00000000e+00  0.00000000e+00  0.00000000e+00\n",
      "  0.00000000e+00  0.00000000e+00  5.75471878e+00 -1.00000000e+00\n",
      "  5.55726624e+00  0.00000000e+00  1.00000000e+00  0.00000000e+00\n",
      " -1.68164849e-01]\n"
     ]
    }
   ],
   "source": [
    "# reset the environment\n",
    "env_info = env.reset(train_mode=True)[brain_name]\n",
    "\n",
    "# number of agents\n",
    "num_agents = len(env_info.agents)\n",
    "print('Number of agents:', num_agents)\n",
    "\n",
    "# size of each action\n",
    "action_size = brain.vector_action_space_size\n",
    "print('Size of each action:', action_size)\n",
    "\n",
    "# examine the state space \n",
    "states = env_info.vector_observations\n",
    "state_size = states.shape[1]\n",
    "print('There are {} agents. Each observes a state with length: {}'.format(states.shape[0], state_size))\n",
    "print('The state for the first agent looks like:', states[0])"
   ]
  },
  {
   "cell_type": "markdown",
   "metadata": {},
   "source": [
    "### 3. Take Random Actions in the Environment\n",
    "\n",
    "In the next code cell, you will learn how to use the Python API to control the agent and receive feedback from the environment.\n",
    "\n",
    "Once this cell is executed, you will watch the agent's performance, if it selects an action at random with each time step.  A window should pop up that allows you to observe the agent, as it moves through the environment.  \n",
    "\n",
    "Of course, as part of the project, you'll have to change the code so that the agent is able to use its experience to gradually choose better actions when interacting with the environment!"
   ]
  },
  {
   "cell_type": "code",
   "execution_count": null,
   "metadata": {},
   "outputs": [],
   "source": [
    "env_info = env.reset(train_mode=False)[brain_name]     # reset the environment    \n",
    "states = env_info.vector_observations                  # get the current state (for each agent)\n",
    "scores = np.zeros(num_agents)                          # initialize the score (for each agent)\n",
    "while True:\n",
    "    actions = np.random.randn(num_agents, action_size) # select an action (for each agent)\n",
    "    actions = np.clip(actions, -1, 1)                  # all actions between -1 and 1\n",
    "    env_info = env.step(actions)[brain_name]           # send all actions to tne environment\n",
    "    next_states = env_info.vector_observations         # get next state (for each agent)\n",
    "    rewards = env_info.rewards                         # get reward (for each agent)\n",
    "    dones = env_info.local_done                        # see if episode finished\n",
    "    scores += env_info.rewards                         # update the score (for each agent)\n",
    "    states = next_states                               # roll over states to next time step\n",
    "    if np.any(dones):                                  # exit loop if episode finished\n",
    "        break\n",
    "print('Total score (averaged over agents) this episode: {}'.format(np.mean(scores)))"
   ]
  },
  {
   "cell_type": "markdown",
   "metadata": {},
   "source": [
    "When finished, you can close the environment."
   ]
  },
  {
   "cell_type": "code",
   "execution_count": null,
   "metadata": {},
   "outputs": [],
   "source": [
    "env.close()"
   ]
  },
  {
   "cell_type": "markdown",
   "metadata": {},
   "source": [
    "### 4. It's Your Turn!\n",
    "\n",
    "Now it's your turn to train your own agent to solve the environment!  When training the environment, set `train_mode=True`, so that the line for resetting the environment looks like the following:\n",
    "```python\n",
    "env_info = env.reset(train_mode=True)[brain_name]\n",
    "```"
   ]
  },
  {
   "cell_type": "code",
   "execution_count": 10,
   "metadata": {},
   "outputs": [],
   "source": [
    "from ddpg_agent import Agent\n",
    "\n",
    "agent = Agent(state_size=state_size, action_size=action_size,random_seed=0,num_agents=num_agents)"
   ]
  },
  {
   "cell_type": "code",
   "execution_count": 11,
   "metadata": {},
   "outputs": [],
   "source": [
    "from collections import deque\n",
    "import torch"
   ]
  },
  {
   "cell_type": "code",
   "execution_count": 12,
   "metadata": {},
   "outputs": [],
   "source": [
    "def ddpg(n_episodes=2000, n_trajectories=10000, queue=100):\n",
    "    scores_window = deque(maxlen=queue)\n",
    "    scores_all = []\n",
    "    for i_episode in range(1, n_episodes+1):\n",
    "        env_info = env.reset(train_mode=True)[brain_name]      # reset the environment    \n",
    "        states = env_info.vector_observations\n",
    "        agent.reset()\n",
    "        scores = np.zeros(num_agents)\n",
    "        t=0\n",
    "        while True:\n",
    "            actions = agent.act(states)                        # select an action (for each agent)\n",
    "            env_info = env.step(actions)[brain_name]           # send all actions to tne environment\n",
    "            next_states = env_info.vector_observations         # get next state (for each agent)\n",
    "            rewards = env_info.rewards                         # get reward (for each agent)\n",
    "            dones = env_info.local_done                        # see if episode finished\n",
    "            agent.step(states, actions, rewards, next_states, dones)\n",
    "            scores += rewards                                  # update the score (for each agent)\n",
    "            states = next_states                               # roll over states to next time step\n",
    "            if np.any(dones):                                  # exit loop if episode finished\n",
    "                break\n",
    "            t+=1\n",
    "            print('\\rTrajectory {}\\tAverage Score: {:.2f}'.format(t, np.mean(scores)), end=\"\")\n",
    "        scores_window.append(np.mean(scores))\n",
    "        scores_all.append(np.mean(scores))\n",
    "        \n",
    "        print('Episode {} ... Reward: {:.3f} ... Average Reward: {:.3f}'.format(\n",
    "                i_episode, np.mean(scores), np.mean(scores_window)))\n",
    "\n",
    "        if np.mean(scores_window)>=30.0:\n",
    "            print('\\nEnvironment solved in {:d} episodes!\\tAverage Score: {:.3f}'.format(\n",
    "                i_episode-100, np.mean(scores_window)))\n",
    "            torch.save(agent.actor_local.state_dict(), 'checkpoint_actor_multi.pth')\n",
    "            torch.save(agent.critic_local.state_dict(), 'checkpoint_critic_multi.pth')\n",
    "            break\n",
    "\n",
    "    return scores_all"
   ]
  },
  {
   "cell_type": "code",
   "execution_count": 13,
   "metadata": {
    "scrolled": true
   },
   "outputs": [
    {
     "name": "stdout",
     "output_type": "stream",
     "text": [
      "Trajectory 1000\tAverage Score: 0.59Episode 1 ... Reward: 0.595 ... Average Reward: 0.595\n",
      "Trajectory 1000\tAverage Score: 1.07Episode 2 ... Reward: 1.067 ... Average Reward: 0.831\n",
      "Trajectory 1000\tAverage Score: 0.89Episode 3 ... Reward: 0.887 ... Average Reward: 0.850\n",
      "Trajectory 1000\tAverage Score: 0.87Episode 4 ... Reward: 0.865 ... Average Reward: 0.854\n",
      "Trajectory 1000\tAverage Score: 0.68Episode 5 ... Reward: 0.682 ... Average Reward: 0.820\n",
      "Trajectory 1000\tAverage Score: 1.06Episode 6 ... Reward: 1.068 ... Average Reward: 0.861\n",
      "Trajectory 1000\tAverage Score: 1.01Episode 7 ... Reward: 1.015 ... Average Reward: 0.883\n",
      "Trajectory 1000\tAverage Score: 1.14Episode 8 ... Reward: 1.143 ... Average Reward: 0.916\n",
      "Trajectory 1000\tAverage Score: 1.08Episode 9 ... Reward: 1.080 ... Average Reward: 0.934\n",
      "Trajectory 1000\tAverage Score: 1.21Episode 10 ... Reward: 1.207 ... Average Reward: 0.961\n",
      "Trajectory 1000\tAverage Score: 1.53Episode 11 ... Reward: 1.529 ... Average Reward: 1.013\n",
      "Trajectory 1000\tAverage Score: 1.59Episode 12 ... Reward: 1.597 ... Average Reward: 1.061\n",
      "Trajectory 1000\tAverage Score: 1.91Episode 13 ... Reward: 1.918 ... Average Reward: 1.127\n",
      "Trajectory 1000\tAverage Score: 2.11Episode 14 ... Reward: 2.106 ... Average Reward: 1.197\n",
      "Trajectory 1000\tAverage Score: 2.82Episode 15 ... Reward: 2.825 ... Average Reward: 1.306\n",
      "Trajectory 1000\tAverage Score: 2.95Episode 16 ... Reward: 2.963 ... Average Reward: 1.409\n",
      "Trajectory 1000\tAverage Score: 2.53Episode 17 ... Reward: 2.534 ... Average Reward: 1.476\n",
      "Trajectory 1000\tAverage Score: 2.75Episode 18 ... Reward: 2.757 ... Average Reward: 1.547\n",
      "Trajectory 1000\tAverage Score: 3.15Episode 19 ... Reward: 3.148 ... Average Reward: 1.631\n",
      "Trajectory 1000\tAverage Score: 3.90Episode 20 ... Reward: 3.902 ... Average Reward: 1.745\n",
      "Trajectory 1000\tAverage Score: 3.27Episode 21 ... Reward: 3.273 ... Average Reward: 1.817\n",
      "Trajectory 1000\tAverage Score: 4.28Episode 22 ... Reward: 4.285 ... Average Reward: 1.930\n",
      "Trajectory 1000\tAverage Score: 5.35Episode 23 ... Reward: 5.352 ... Average Reward: 2.078\n",
      "Trajectory 1000\tAverage Score: 5.77Episode 24 ... Reward: 5.773 ... Average Reward: 2.232\n",
      "Trajectory 1000\tAverage Score: 7.35Episode 25 ... Reward: 7.356 ... Average Reward: 2.437\n",
      "Trajectory 1000\tAverage Score: 8.49Episode 26 ... Reward: 8.501 ... Average Reward: 2.671\n",
      "Trajectory 1000\tAverage Score: 8.43Episode 27 ... Reward: 8.447 ... Average Reward: 2.885\n",
      "Trajectory 1000\tAverage Score: 10.10Episode 28 ... Reward: 10.106 ... Average Reward: 3.142\n",
      "Trajectory 1000\tAverage Score: 11.32Episode 29 ... Reward: 11.333 ... Average Reward: 3.425\n",
      "Trajectory 1000\tAverage Score: 10.42Episode 30 ... Reward: 10.431 ... Average Reward: 3.658\n",
      "Trajectory 1000\tAverage Score: 10.72Episode 31 ... Reward: 10.727 ... Average Reward: 3.886\n",
      "Trajectory 1000\tAverage Score: 14.69Episode 32 ... Reward: 14.699 ... Average Reward: 4.224\n",
      "Trajectory 1000\tAverage Score: 16.88Episode 33 ... Reward: 16.897 ... Average Reward: 4.608\n",
      "Trajectory 1000\tAverage Score: 17.64Episode 34 ... Reward: 17.648 ... Average Reward: 4.992\n",
      "Trajectory 1000\tAverage Score: 20.28Episode 35 ... Reward: 20.308 ... Average Reward: 5.430\n",
      "Trajectory 1000\tAverage Score: 21.67Episode 36 ... Reward: 21.686 ... Average Reward: 5.881\n",
      "Trajectory 1000\tAverage Score: 24.20Episode 37 ... Reward: 24.220 ... Average Reward: 6.377\n",
      "Trajectory 1000\tAverage Score: 22.23Episode 38 ... Reward: 22.256 ... Average Reward: 6.795\n",
      "Trajectory 1000\tAverage Score: 26.11Episode 39 ... Reward: 26.139 ... Average Reward: 7.291\n",
      "Trajectory 1000\tAverage Score: 24.95Episode 40 ... Reward: 24.985 ... Average Reward: 7.733\n",
      "Trajectory 1000\tAverage Score: 28.46Episode 41 ... Reward: 28.489 ... Average Reward: 8.239\n",
      "Trajectory 1000\tAverage Score: 29.34Episode 42 ... Reward: 29.369 ... Average Reward: 8.742\n",
      "Trajectory 1000\tAverage Score: 28.58Episode 43 ... Reward: 28.616 ... Average Reward: 9.205\n",
      "Trajectory 1000\tAverage Score: 31.18Episode 44 ... Reward: 31.210 ... Average Reward: 9.705\n",
      "Trajectory 1000\tAverage Score: 30.90Episode 45 ... Reward: 30.936 ... Average Reward: 10.176\n",
      "Trajectory 1000\tAverage Score: 32.11Episode 46 ... Reward: 32.140 ... Average Reward: 10.654\n",
      "Trajectory 1000\tAverage Score: 32.10Episode 47 ... Reward: 32.137 ... Average Reward: 11.111\n",
      "Trajectory 1000\tAverage Score: 32.71Episode 48 ... Reward: 32.737 ... Average Reward: 11.562\n",
      "Trajectory 1000\tAverage Score: 31.93Episode 49 ... Reward: 31.958 ... Average Reward: 11.978\n",
      "Trajectory 1000\tAverage Score: 34.75Episode 50 ... Reward: 34.786 ... Average Reward: 12.434\n",
      "Trajectory 1000\tAverage Score: 34.12Episode 51 ... Reward: 34.154 ... Average Reward: 12.860\n",
      "Trajectory 1000\tAverage Score: 35.02Episode 52 ... Reward: 35.061 ... Average Reward: 13.287\n",
      "Trajectory 1000\tAverage Score: 35.02Episode 53 ... Reward: 35.055 ... Average Reward: 13.698\n",
      "Trajectory 1000\tAverage Score: 35.68Episode 54 ... Reward: 35.710 ... Average Reward: 14.105\n",
      "Trajectory 1000\tAverage Score: 36.17Episode 55 ... Reward: 36.211 ... Average Reward: 14.507\n",
      "Trajectory 1000\tAverage Score: 36.87Episode 56 ... Reward: 36.911 ... Average Reward: 14.907\n",
      "Trajectory 1000\tAverage Score: 36.64Episode 57 ... Reward: 36.673 ... Average Reward: 15.289\n",
      "Trajectory 1000\tAverage Score: 37.41Episode 58 ... Reward: 37.448 ... Average Reward: 15.671\n",
      "Trajectory 1000\tAverage Score: 37.55Episode 59 ... Reward: 37.588 ... Average Reward: 16.043\n",
      "Trajectory 1000\tAverage Score: 37.15Episode 60 ... Reward: 37.191 ... Average Reward: 16.395\n",
      "Trajectory 1000\tAverage Score: 37.69Episode 61 ... Reward: 37.729 ... Average Reward: 16.745\n",
      "Trajectory 1000\tAverage Score: 37.57Episode 62 ... Reward: 37.608 ... Average Reward: 17.081\n",
      "Trajectory 1000\tAverage Score: 37.36Episode 63 ... Reward: 37.405 ... Average Reward: 17.404\n",
      "Trajectory 1000\tAverage Score: 37.39Episode 64 ... Reward: 37.430 ... Average Reward: 17.717\n",
      "Trajectory 1000\tAverage Score: 37.82Episode 65 ... Reward: 37.855 ... Average Reward: 18.027\n",
      "Trajectory 1000\tAverage Score: 37.54Episode 66 ... Reward: 37.577 ... Average Reward: 18.323\n",
      "Trajectory 1000\tAverage Score: 37.57Episode 67 ... Reward: 37.604 ... Average Reward: 18.611\n",
      "Trajectory 1000\tAverage Score: 37.24Episode 68 ... Reward: 37.283 ... Average Reward: 18.885\n",
      "Trajectory 1000\tAverage Score: 37.66Episode 69 ... Reward: 37.705 ... Average Reward: 19.158\n",
      "Trajectory 1000\tAverage Score: 37.73Episode 70 ... Reward: 37.767 ... Average Reward: 19.424\n",
      "Trajectory 1000\tAverage Score: 37.14Episode 71 ... Reward: 37.183 ... Average Reward: 19.674\n",
      "Trajectory 1000\tAverage Score: 37.67Episode 72 ... Reward: 37.710 ... Average Reward: 19.924\n",
      "Trajectory 1000\tAverage Score: 38.03Episode 73 ... Reward: 38.072 ... Average Reward: 20.173\n",
      "Trajectory 1000\tAverage Score: 37.59Episode 74 ... Reward: 37.626 ... Average Reward: 20.409\n",
      "Trajectory 1000\tAverage Score: 37.96Episode 75 ... Reward: 37.993 ... Average Reward: 20.643\n",
      "Trajectory 1000\tAverage Score: 37.38Episode 76 ... Reward: 37.416 ... Average Reward: 20.864\n",
      "Trajectory 1000\tAverage Score: 37.41Episode 77 ... Reward: 37.444 ... Average Reward: 21.079\n",
      "Trajectory 1000\tAverage Score: 36.79Episode 78 ... Reward: 36.832 ... Average Reward: 21.281\n",
      "Trajectory 1000\tAverage Score: 37.64Episode 79 ... Reward: 37.676 ... Average Reward: 21.489\n",
      "Trajectory 1000\tAverage Score: 37.59Episode 80 ... Reward: 37.628 ... Average Reward: 21.691\n",
      "Trajectory 1000\tAverage Score: 37.71Episode 81 ... Reward: 37.745 ... Average Reward: 21.889\n",
      "Trajectory 1000\tAverage Score: 37.42Episode 82 ... Reward: 37.457 ... Average Reward: 22.079\n",
      "Trajectory 1000\tAverage Score: 37.59Episode 83 ... Reward: 37.624 ... Average Reward: 22.266\n",
      "Trajectory 1000\tAverage Score: 37.33Episode 84 ... Reward: 37.366 ... Average Reward: 22.446\n",
      "Trajectory 1000\tAverage Score: 36.68Episode 85 ... Reward: 36.720 ... Average Reward: 22.614\n",
      "Trajectory 1000\tAverage Score: 37.29Episode 86 ... Reward: 37.327 ... Average Reward: 22.785\n",
      "Trajectory 1000\tAverage Score: 36.86Episode 87 ... Reward: 36.894 ... Average Reward: 22.947\n",
      "Trajectory 1000\tAverage Score: 37.09Episode 88 ... Reward: 37.124 ... Average Reward: 23.108\n",
      "Trajectory 1000\tAverage Score: 37.38Episode 89 ... Reward: 37.418 ... Average Reward: 23.269\n"
     ]
    },
    {
     "name": "stdout",
     "output_type": "stream",
     "text": [
      "Trajectory 1000\tAverage Score: 36.38Episode 90 ... Reward: 36.405 ... Average Reward: 23.415\n",
      "Trajectory 1000\tAverage Score: 36.77Episode 91 ... Reward: 36.809 ... Average Reward: 23.562\n",
      "Trajectory 1000\tAverage Score: 37.11Episode 92 ... Reward: 37.153 ... Average Reward: 23.710\n",
      "Trajectory 1000\tAverage Score: 36.78Episode 93 ... Reward: 36.817 ... Average Reward: 23.851\n",
      "Trajectory 1000\tAverage Score: 36.06Episode 94 ... Reward: 36.094 ... Average Reward: 23.981\n",
      "Trajectory 1000\tAverage Score: 35.85Episode 95 ... Reward: 35.882 ... Average Reward: 24.106\n",
      "Trajectory 1000\tAverage Score: 35.37Episode 96 ... Reward: 35.403 ... Average Reward: 24.224\n",
      "Trajectory 1000\tAverage Score: 37.29Episode 97 ... Reward: 37.328 ... Average Reward: 24.359\n",
      "Trajectory 1000\tAverage Score: 36.36Episode 98 ... Reward: 36.402 ... Average Reward: 24.482\n",
      "Trajectory 1000\tAverage Score: 35.83Episode 99 ... Reward: 35.864 ... Average Reward: 24.597\n",
      "Trajectory 1000\tAverage Score: 36.22Episode 100 ... Reward: 36.251 ... Average Reward: 24.713\n",
      "Trajectory 1000\tAverage Score: 35.68Episode 101 ... Reward: 35.715 ... Average Reward: 25.065\n",
      "Trajectory 1000\tAverage Score: 36.51Episode 102 ... Reward: 36.548 ... Average Reward: 25.419\n",
      "Trajectory 1000\tAverage Score: 36.84Episode 103 ... Reward: 36.881 ... Average Reward: 25.779\n",
      "Trajectory 1000\tAverage Score: 37.12Episode 104 ... Reward: 37.151 ... Average Reward: 26.142\n",
      "Trajectory 1000\tAverage Score: 36.58Episode 105 ... Reward: 36.618 ... Average Reward: 26.502\n",
      "Trajectory 1000\tAverage Score: 36.38Episode 106 ... Reward: 36.416 ... Average Reward: 26.855\n",
      "Trajectory 1000\tAverage Score: 35.91Episode 107 ... Reward: 35.947 ... Average Reward: 27.204\n",
      "Trajectory 1000\tAverage Score: 35.38Episode 108 ... Reward: 35.422 ... Average Reward: 27.547\n",
      "Trajectory 1000\tAverage Score: 36.33Episode 109 ... Reward: 36.369 ... Average Reward: 27.900\n",
      "Trajectory 1000\tAverage Score: 35.55Episode 110 ... Reward: 35.590 ... Average Reward: 28.244\n",
      "Trajectory 1000\tAverage Score: 36.86Episode 111 ... Reward: 36.902 ... Average Reward: 28.598\n",
      "Trajectory 1000\tAverage Score: 36.55Episode 112 ... Reward: 36.588 ... Average Reward: 28.948\n",
      "Trajectory 1000\tAverage Score: 35.63Episode 113 ... Reward: 35.664 ... Average Reward: 29.285\n",
      "Trajectory 1000\tAverage Score: 35.71Episode 114 ... Reward: 35.737 ... Average Reward: 29.621\n",
      "Trajectory 1000\tAverage Score: 34.95Episode 115 ... Reward: 34.984 ... Average Reward: 29.943\n",
      "Trajectory 1000\tAverage Score: 36.22Episode 116 ... Reward: 36.255 ... Average Reward: 30.276\n",
      "\n",
      "Environment solved in 16 episodes!\tAverage Score: 30.276\n",
      "CPU times: user 45min 6s, sys: 3min 55s, total: 49min 2s\n",
      "Wall time: 47min 1s\n"
     ]
    }
   ],
   "source": [
    "%%time\n",
    "scores = ddpg()"
   ]
  },
  {
   "cell_type": "code",
   "execution_count": 14,
   "metadata": {},
   "outputs": [],
   "source": [
    "import matplotlib.pyplot as plt\n",
    "%matplotlib inline"
   ]
  },
  {
   "cell_type": "code",
   "execution_count": 15,
   "metadata": {},
   "outputs": [],
   "source": [
    "import pandas as pd"
   ]
  },
  {
   "cell_type": "code",
   "execution_count": 16,
   "metadata": {},
   "outputs": [],
   "source": [
    "rolling_window_scores = pd.Series(scores).rolling(20).mean()"
   ]
  },
  {
   "cell_type": "code",
   "execution_count": 17,
   "metadata": {},
   "outputs": [
    {
     "data": {
      "image/png": "[encoded data removed]",
      "text/plain": [
       "<Figure size 432x288 with 1 Axes>"
      ]
     },
     "metadata": {
      "needs_background": "light"
     },
     "output_type": "display_data"
    }
   ],
   "source": [
    "# plot the scores\n",
    "fig = plt.figure()\n",
    "ax = fig.add_subplot(111)\n",
    "plt.plot(np.arange(len(scores)), scores)\n",
    "#ax.plot(rolling_window_scores, \"-\", c=\"red\", linewidth=1)\n",
    "plt.ylabel('Score')\n",
    "plt.xlabel('Episode #')\n",
    "plt.show()"
   ]
  },
  {
   "cell_type": "code",
   "execution_count": 19,
   "metadata": {},
   "outputs": [],
   "source": [
    "fig.tight_layout()\n",
    "fig.savefig(\"images/multi_reacher.jpg\")"
   ]
  },
  {
   "cell_type": "markdown",
   "metadata": {},
   "source": [
    "### 5. Watch the Smart Agent Run!"
   ]
  },
  {
   "cell_type": "code",
   "execution_count": 20,
   "metadata": {},
   "outputs": [],
   "source": [
    "agent.actor_local.load_state_dict(torch.load('checkpoint_actor_multi.pth'))\n",
    "agent.critic_local.load_state_dict(torch.load('checkpoint_critic_multi.pth'))\n",
    "\n",
    "env_info = env.reset(train_mode=False)[brain_name]        \n",
    "states = env_info.vector_observations                  \n",
    "scores = np.zeros(num_agents)                          \n",
    "\n",
    "for i in range(500):\n",
    "    actions = agent.act(states, add_noise=False)                    \n",
    "    env_info = env.step(actions)[brain_name]        \n",
    "    next_states = env_info.vector_observations        \n",
    "    rewards = env_info.rewards                        \n",
    "    dones = env_info.local_done                 \n",
    "    scores += rewards                         \n",
    "    states = next_states                              \n",
    "    if np.any(dones):                              \n",
    "        break"
   ]
  },
  {
   "cell_type": "code",
   "execution_count": 21,
   "metadata": {},
   "outputs": [],
   "source": [
    "env.close()"
   ]
  },
  {
   "cell_type": "code",
   "execution_count": null,
   "metadata": {},
   "outputs": [],
   "source": []
  }
 ],
 "metadata": {
  "kernelspec": {
   "display_name": "Python 3",
   "language": "python",
   "name": "python3"
  },
  "language_info": {
   "codemirror_mode": {
    "name": "ipython",
    "version": 3
   },
   "file_extension": ".py",
   "mimetype": "text/x-python",
   "name": "python",
   "nbconvert_exporter": "python",
   "pygments_lexer": "ipython3",
   "version": "3.6.7"
  }
 },
 "nbformat": 4,
 "nbformat_minor": 2
}
